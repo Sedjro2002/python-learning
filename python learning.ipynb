{
 "cells": [
  {
   "cell_type": "code",
   "execution_count": 1,
   "metadata": {},
   "outputs": [
    {
     "name": "stdout",
     "output_type": "stream",
     "text": [
      "1\n",
      "3\n",
      "5\n",
      "7\n",
      "9\n",
      "11\n",
      "13\n",
      "15\n",
      "17\n",
      "19\n"
     ]
    },
    {
     "data": {
      "text/plain": [
       "[1, 3, 5, 7, 9, 11, 13, 15, 17, 19]"
      ]
     },
     "execution_count": 1,
     "metadata": {},
     "output_type": "execute_result"
    }
   ],
   "source": [
    "def fibo(n):\n",
    "    resultats=[]\n",
    "    if n==0:\n",
    "        resultats.append(0)\n",
    "        return 0\n",
    "    elif n==1:\n",
    "        resultats.append(1)\n",
    "        return 1\n",
    "    else:\n",
    "        a,b=0,1\n",
    "        x=0\n",
    "        while b<n:\n",
    "            x=a+b\n",
    "            a+=1\n",
    "            b+=1\n",
    "            print(x)\n",
    "            resultats.append(x)\n",
    "            \n",
    "        return (resultats)\n",
    "        \n",
    "fibo(11)\n"
   ]
  },
  {
   "cell_type": "code",
   "execution_count": 2,
   "metadata": {},
   "outputs": [],
   "source": [
    "import numpy as np\n",
    "\n",
    "\n",
    "trad={\n",
    "    \"chien\":\"dog\",\n",
    "    \"chat\":\"cat\",\n",
    "    \"loup\":\"wolf\"\n",
    "    \n",
    "}\n",
    "\n",
    "inventaire={\n",
    "    \"pain\":2,\n",
    "    \"sac de riz\":1,\n",
    "    \"boite de lait\":2\n",
    "}\n",
    "\n",
    "fusion={\n",
    "    \"dict1\":inventaire,\n",
    "    \"dict2\":trad\n",
    "    \n",
    "}\n",
    "\n",
    "parametres={\n",
    "    \"p1\":np.random.randint(0,10),\n",
    "    \n",
    "}"
   ]
  },
  {
   "cell_type": "code",
   "execution_count": 3,
   "metadata": {},
   "outputs": [
    {
     "data": {
      "text/plain": [
       "dict_values([2, 1, 2])"
      ]
     },
     "execution_count": 3,
     "metadata": {},
     "output_type": "execute_result"
    }
   ],
   "source": [
    "inventaire.values()\n",
    "\n"
   ]
  },
  {
   "cell_type": "code",
   "execution_count": 4,
   "metadata": {},
   "outputs": [
    {
     "data": {
      "text/plain": [
       "dict_keys(['pain', 'sac de riz', 'boite de lait'])"
      ]
     },
     "execution_count": 4,
     "metadata": {},
     "output_type": "execute_result"
    }
   ],
   "source": [
    "inventaire.keys()\n"
   ]
  },
  {
   "cell_type": "code",
   "execution_count": 5,
   "metadata": {},
   "outputs": [
    {
     "data": {
      "text/plain": [
       "3"
      ]
     },
     "execution_count": 5,
     "metadata": {},
     "output_type": "execute_result"
    }
   ],
   "source": [
    "len(inventaire)"
   ]
  },
  {
   "cell_type": "code",
   "execution_count": 6,
   "metadata": {},
   "outputs": [
    {
     "name": "stdout",
     "output_type": "stream",
     "text": [
      "{'pain': 2, 'sac de riz': 1, 'boite de lait': 2, 'abricot': 3}\n"
     ]
    }
   ],
   "source": [
    "inventaire[\"abricot\"]=3\n",
    "print(inventaire)"
   ]
  },
  {
   "cell_type": "code",
   "execution_count": 7,
   "metadata": {},
   "outputs": [
    {
     "name": "stdout",
     "output_type": "stream",
     "text": [
      "{}\n"
     ]
    }
   ],
   "source": [
    "\n",
    "dic_liste={}\n",
    "liste=('a','b','c','d')\n",
    "dic_liste.fromkeys(liste,'valeur par defaut')\n",
    "print(dic_liste)"
   ]
  },
  {
   "cell_type": "code",
   "execution_count": 8,
   "metadata": {},
   "outputs": [
    {
     "name": "stdout",
     "output_type": "stream",
     "text": [
      "2\n",
      "{'pain': 2, 'sac de riz': 1, 'abricot': 3}\n"
     ]
    }
   ],
   "source": [
    "valeurEnlevée=inventaire.pop('boite de lait')\n",
    "print(valeurEnlevée)\n",
    "print(inventaire)"
   ]
  },
  {
   "cell_type": "code",
   "execution_count": 9,
   "metadata": {},
   "outputs": [
    {
     "name": "stdout",
     "output_type": "stream",
     "text": [
      "pain\n",
      "sac de riz\n",
      "abricot\n"
     ]
    }
   ],
   "source": [
    "for i in inventaire:\n",
    "    print(i)"
   ]
  },
  {
   "cell_type": "code",
   "execution_count": 10,
   "metadata": {},
   "outputs": [
    {
     "name": "stdout",
     "output_type": "stream",
     "text": [
      "pain 2\n",
      "sac de riz 1\n",
      "abricot 3\n"
     ]
    }
   ],
   "source": [
    "for i,j in inventaire.items():\n",
    "    print(i,j)"
   ]
  },
  {
   "cell_type": "code",
   "execution_count": 11,
   "metadata": {},
   "outputs": [
    {
     "name": "stdout",
     "output_type": "stream",
     "text": [
      "[0, 1, 4, 9, 16, 25, 36, 49, 64, 81, 100, 121, 144, 169, 196, 225, 256, 289, 324, 361, 400, 441, 484, 529, 576, 625, 676, 729, 784, 841, 900, 961, 1024, 1089, 1156, 1225, 1296, 1369, 1444, 1521, 1600, 1681, 1764, 1849, 1936, 2025, 2116, 2209, 2304, 2401, 2500, 2601, 2704, 2809, 2916, 3025, 3136, 3249, 3364, 3481, 3600, 3721, 3844, 3969, 4096, 4225, 4356, 4489, 4624, 4761, 4900, 5041, 5184, 5329, 5476, 5625, 5776, 5929, 6084, 6241, 6400, 6561, 6724, 6889, 7056, 7225, 7396, 7569, 7744, 7921, 8100, 8281, 8464, 8649, 8836, 9025, 9216, 9409, 9604, 9801]\n",
      "0.0\n"
     ]
    }
   ],
   "source": [
    "import time\n",
    "start=time.time()\n",
    "\n",
    "#tous les nombres carrés de 0 à 9\n",
    "nbreCarrés=[i**2 for i in range(100)]\n",
    "print(nbreCarrés)\n",
    "\n",
    "end=time.time()\n",
    "\n",
    "durée=end-start\n",
    "print(durée)\n"
   ]
  },
  {
   "cell_type": "code",
   "execution_count": 12,
   "metadata": {},
   "outputs": [
    {
     "name": "stdout",
     "output_type": "stream",
     "text": [
      "[0, 1, 4, 9, 16, 25, 36, 49, 64, 81, 100, 121, 144, 169, 196, 225, 256, 289, 324, 361, 400, 441, 484, 529, 576, 625, 676, 729, 784, 841, 900, 961, 1024, 1089, 1156, 1225, 1296, 1369, 1444, 1521, 1600, 1681, 1764, 1849, 1936, 2025, 2116, 2209, 2304, 2401, 2500, 2601, 2704, 2809, 2916, 3025, 3136, 3249, 3364, 3481, 3600, 3721, 3844, 3969, 4096, 4225, 4356, 4489, 4624, 4761, 4900, 5041, 5184, 5329, 5476, 5625, 5776, 5929, 6084, 6241, 6400, 6561, 6724, 6889, 7056, 7225, 7396, 7569, 7744, 7921, 8100, 8281, 8464, 8649, 8836, 9025, 9216, 9409, 9604, 9801]\n",
      "0.0\n"
     ]
    }
   ],
   "source": [
    "import time\n",
    "start=time.time()\n",
    "\n",
    "#tous les nombres carrés de 0 à 9\n",
    "nbreCarrés=[]\n",
    "for i in range(100):\n",
    "    nbreCarrés.append(i**2)\n",
    "print(nbreCarrés)\n",
    "\n",
    "end=time.time()\n",
    "\n",
    "durée=end-start\n",
    "print(durée)\n"
   ]
  },
  {
   "cell_type": "code",
   "execution_count": 13,
   "metadata": {},
   "outputs": [
    {
     "name": "stdout",
     "output_type": "stream",
     "text": [
      "[[1, 2, 3], [2, 3, 4], [3, 4, 5], [4, 5, 6], [5, 6, 7], [6, 7, 8], [7, 8, 9], [8, 9, 10], [9, 10, 11], [10, 11, 12]]\n"
     ]
    }
   ],
   "source": [
    "nestedList=[[i+j for i in range(1,4)] for j in range(10)]\n",
    "print(nestedList)"
   ]
  },
  {
   "cell_type": "code",
   "execution_count": 14,
   "metadata": {},
   "outputs": [
    {
     "name": "stdout",
     "output_type": "stream",
     "text": [
      "{0: 'Jean', 1: 'Paul', 2: 'Jacques', 3: 'Pierre', 4: 'Marie', 5: 'Anne', 6: 'Julie', 7: 'Julien', 8: 'Juliette', 9: 'Julia'}\n",
      "{0: 'Jean', 1: 'Paul', 2: 'Jacques', 3: 'Pierre', 4: 'Marie', 5: 'Anne', 6: 'Julie', 7: 'Julien', 8: 'Juliette', 9: 'Julia'}\n"
     ]
    },
    {
     "data": {
      "text/plain": [
       "dict_keys([0, 1, 2, 3, 4, 5, 6, 7, 8, 9])"
      ]
     },
     "execution_count": 14,
     "metadata": {},
     "output_type": "execute_result"
    }
   ],
   "source": [
    "prenoms=[\"Jean\",\"Paul\",\"Jacques\",\"Pierre\",\"Marie\",\"Anne\",\"Julie\",\"Julien\",\"Juliette\",\"Julia\"]\n",
    "prenoms_dict1={i:prenoms[i] for i in range(len(prenoms))}\n",
    "prenoms_dict2={k:v for k,v in enumerate(prenoms)}\n",
    "\n",
    "print(prenoms_dict1)\n",
    "print(prenoms_dict2)\n",
    "\n",
    "prenoms_dict2.keys()"
   ]
  },
  {
   "cell_type": "code",
   "execution_count": 15,
   "metadata": {},
   "outputs": [
    {
     "data": {
      "text/plain": [
       "{'Jean': 30, 'Paul': 35, 'Jacques': 30, 'Marie': 26, 'Julie': 25, 'Julien': 26}"
      ]
     },
     "execution_count": 15,
     "metadata": {},
     "output_type": "execute_result"
    }
   ],
   "source": [
    "import numpy as np\n",
    "\n",
    "\n",
    "ages=[np.random.randint(10,40) for i in range(10)]\n",
    "registre={prenoms:ages for prenoms, ages in zip(prenoms,ages) if ages > 23}\n",
    "registre"
   ]
  },
  {
   "cell_type": "code",
   "execution_count": 16,
   "metadata": {},
   "outputs": [],
   "source": [
    "sex=tuple(np.random.choice(('Homme','Femme')) for i in range(10))\n",
    "\n",
    "\n",
    "\n",
    "\n"
   ]
  },
  {
   "cell_type": "code",
   "execution_count": 17,
   "metadata": {},
   "outputs": [
    {
     "name": "stdout",
     "output_type": "stream",
     "text": [
      "{0: 0, 1: 1, 2: 4, 3: 9, 4: 16, 5: 25, 6: 36, 7: 49, 8: 64, 9: 81, 10: 100, 11: 121, 12: 144, 13: 169, 14: 196, 15: 225, 16: 256, 17: 289, 18: 324, 19: 361}\n"
     ]
    }
   ],
   "source": [
    "# k=(range(20))\n",
    "# v=k**2\n",
    "dict_kv={k:k**2 for k in range(20) }\n",
    "print(dict_kv)\n",
    "\n"
   ]
  },
  {
   "cell_type": "code",
   "execution_count": 18,
   "metadata": {},
   "outputs": [
    {
     "name": "stdout",
     "output_type": "stream",
     "text": [
      "<class 'int'>\n",
      "<class 'str'>\n"
     ]
    }
   ],
   "source": [
    "x=10\n",
    "print(type(x))\n",
    "x=str(x)\n",
    "print(type(x))\n"
   ]
  },
  {
   "cell_type": "code",
   "execution_count": 25,
   "metadata": {},
   "outputs": [
    {
     "name": "stdout",
     "output_type": "stream",
     "text": [
      "la temperature est de 10° à Paris\n"
     ]
    }
   ],
   "source": [
    "degrés=25\n",
    "ville='Paris'\n",
    "message='la temperature est de {}° à {}'.format(x,ville)\n",
    "print(message)"
   ]
  },
  {
   "cell_type": "code",
   "execution_count": 27,
   "metadata": {},
   "outputs": [
    {
     "name": "stdout",
     "output_type": "stream",
     "text": [
      "la temperature est de 10° à Paris\n"
     ]
    }
   ],
   "source": [
    "degrés=25\n",
    "ville='Paris'\n",
    "message=f'la temperature est de {x}° à {ville}'\n",
    "print(message)"
   ]
  },
  {
   "cell_type": "code",
   "execution_count": 21,
   "metadata": {},
   "outputs": [],
   "source": [
    "f=open('fichier.txt','w')\n",
    "f.write('bonjour')\n",
    "f.close()"
   ]
  },
  {
   "cell_type": "code",
   "execution_count": 22,
   "metadata": {},
   "outputs": [
    {
     "name": "stdout",
     "output_type": "stream",
     "text": [
      "bonjour\n"
     ]
    }
   ],
   "source": [
    "f=open('fichier.txt','r')\n",
    "print(f.read())\n",
    "f.close()"
   ]
  },
  {
   "cell_type": "code",
   "execution_count": 23,
   "metadata": {},
   "outputs": [],
   "source": [
    "with open('fichier.txt','w') as f:\n",
    "    for i in range(10):\n",
    "        f.write(f'{i}^2 = {i**2} \\n')"
   ]
  },
  {
   "cell_type": "code",
   "execution_count": 29,
   "metadata": {},
   "outputs": [
    {
     "name": "stdout",
     "output_type": "stream",
     "text": [
      "['0^2 = 0 \\n', '1^2 = 1 \\n', '2^2 = 4 \\n', '3^2 = 9 \\n', '4^2 = 16 \\n', '5^2 = 25 \\n', '6^2 = 36 \\n', '7^2 = 49 \\n', '8^2 = 64 \\n', '9^2 = 81 \\n']\n"
     ]
    }
   ],
   "source": [
    "f_lines=[]\n",
    "with open('fichier.txt','r') as f:\n",
    "    for line in f:\n",
    "        f_lines.append(line)\n",
    "print(f_lines)"
   ]
  }
 ],
 "metadata": {
  "kernelspec": {
   "display_name": "Python 3 (ipykernel)",
   "language": "python",
   "name": "python3"
  },
  "language_info": {
   "codemirror_mode": {
    "name": "ipython",
    "version": 3
   },
   "file_extension": ".py",
   "mimetype": "text/x-python",
   "name": "python",
   "nbconvert_exporter": "python",
   "pygments_lexer": "ipython3",
   "version": "3.9.12"
  },
  "vscode": {
   "interpreter": {
    "hash": "28707a05ef5de89aff01fed74661bb5c1eb450bee07877d9ab28ba975cab0e45"
   }
  }
 },
 "nbformat": 4,
 "nbformat_minor": 2
}
